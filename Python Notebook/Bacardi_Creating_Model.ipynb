{
 "cells": [
  {
   "cell_type": "markdown",
   "id": "a0775b01",
   "metadata": {},
   "source": [
    "# Creating Model to predict Bacardi volumes for FY23"
   ]
  },
  {
   "cell_type": "code",
   "execution_count": 1,
   "id": "236a9224",
   "metadata": {},
   "outputs": [],
   "source": [
    "import pandas as pd\n",
    "import numpy as np"
   ]
  },
  {
   "cell_type": "markdown",
   "id": "c70cc607",
   "metadata": {},
   "source": [
    "## 1. Loading Data"
   ]
  },
  {
   "cell_type": "code",
   "execution_count": 2,
   "id": "bddbb099",
   "metadata": {},
   "outputs": [
    {
     "name": "stdout",
     "output_type": "stream",
     "text": [
      "/Users/lucastrost/Documents/GitHub/Ironhack-Final-Project-Bacardi\n"
     ]
    }
   ],
   "source": [
    "cd .."
   ]
  },
  {
   "cell_type": "code",
   "execution_count": 3,
   "id": "e83f8956",
   "metadata": {},
   "outputs": [
    {
     "name": "stdout",
     "output_type": "stream",
     "text": [
      "/Users/lucastrost/Documents/GitHub/Ironhack-Final-Project-Bacardi/Data\n"
     ]
    }
   ],
   "source": [
    "cd data"
   ]
  },
  {
   "cell_type": "code",
   "execution_count": 4,
   "id": "84499dc9",
   "metadata": {},
   "outputs": [],
   "source": [
    "df = pd.read_excel('cleaned_pure_players_1.xlsx')"
   ]
  },
  {
   "cell_type": "code",
   "execution_count": 5,
   "id": "b6222014",
   "metadata": {},
   "outputs": [
    {
     "data": {
      "text/html": [
       "<div>\n",
       "<style scoped>\n",
       "    .dataframe tbody tr th:only-of-type {\n",
       "        vertical-align: middle;\n",
       "    }\n",
       "\n",
       "    .dataframe tbody tr th {\n",
       "        vertical-align: top;\n",
       "    }\n",
       "\n",
       "    .dataframe thead th {\n",
       "        text-align: right;\n",
       "    }\n",
       "</style>\n",
       "<table border=\"1\" class=\"dataframe\">\n",
       "  <thead>\n",
       "    <tr style=\"text-align: right;\">\n",
       "      <th></th>\n",
       "      <th>Month</th>\n",
       "      <th>Customer Group 1</th>\n",
       "      <th>Category</th>\n",
       "      <th>Brand</th>\n",
       "      <th>Brandline</th>\n",
       "      <th>Format</th>\n",
       "      <th>Classification</th>\n",
       "      <th>Geography</th>\n",
       "      <th>Agency Toggle</th>\n",
       "      <th>Market</th>\n",
       "      <th>Currency</th>\n",
       "      <th>Vol 9LC</th>\n",
       "      <th>DataInd</th>\n",
       "    </tr>\n",
       "  </thead>\n",
       "  <tbody>\n",
       "    <tr>\n",
       "      <th>0</th>\n",
       "      <td>2019-04-01</td>\n",
       "      <td>Amazon France</td>\n",
       "      <td>SPARKLING</td>\n",
       "      <td>AGENCY</td>\n",
       "      <td>PIPER HEIDSIECK</td>\n",
       "      <td>75.0</td>\n",
       "      <td>STANDARD</td>\n",
       "      <td>France</td>\n",
       "      <td>Y</td>\n",
       "      <td>FR</td>\n",
       "      <td>EUR</td>\n",
       "      <td>15.500000</td>\n",
       "      <td>Sell In</td>\n",
       "    </tr>\n",
       "    <tr>\n",
       "      <th>1</th>\n",
       "      <td>2019-04-01</td>\n",
       "      <td>Amazon France</td>\n",
       "      <td>SPARKLING</td>\n",
       "      <td>AGENCY</td>\n",
       "      <td>PIPER HEIDSIECK ROSE</td>\n",
       "      <td>75.0</td>\n",
       "      <td>STANDARD</td>\n",
       "      <td>France</td>\n",
       "      <td>Y</td>\n",
       "      <td>FR</td>\n",
       "      <td>EUR</td>\n",
       "      <td>1.500000</td>\n",
       "      <td>Sell In</td>\n",
       "    </tr>\n",
       "    <tr>\n",
       "      <th>2</th>\n",
       "      <td>2019-04-01</td>\n",
       "      <td>Amazon France</td>\n",
       "      <td>CACHACA</td>\n",
       "      <td>LEBLON</td>\n",
       "      <td>LEBLON CACHACA</td>\n",
       "      <td>70.0</td>\n",
       "      <td>PREMIUM</td>\n",
       "      <td>France</td>\n",
       "      <td>N</td>\n",
       "      <td>FR</td>\n",
       "      <td>EUR</td>\n",
       "      <td>0.466667</td>\n",
       "      <td>Sell In</td>\n",
       "    </tr>\n",
       "    <tr>\n",
       "      <th>3</th>\n",
       "      <td>2019-04-01</td>\n",
       "      <td>Amazon France</td>\n",
       "      <td>COGNAC</td>\n",
       "      <td>OTARD</td>\n",
       "      <td>OTARD VSOP</td>\n",
       "      <td>70.0</td>\n",
       "      <td>PREMIUM</td>\n",
       "      <td>France</td>\n",
       "      <td>N</td>\n",
       "      <td>FR</td>\n",
       "      <td>EUR</td>\n",
       "      <td>0.933333</td>\n",
       "      <td>Sell In</td>\n",
       "    </tr>\n",
       "    <tr>\n",
       "      <th>4</th>\n",
       "      <td>2019-04-01</td>\n",
       "      <td>Amazon France</td>\n",
       "      <td>GIN</td>\n",
       "      <td>BOMBAY</td>\n",
       "      <td>BOMBAY GIN</td>\n",
       "      <td>70.0</td>\n",
       "      <td>STANDARD</td>\n",
       "      <td>France</td>\n",
       "      <td>N</td>\n",
       "      <td>FR</td>\n",
       "      <td>EUR</td>\n",
       "      <td>3.733333</td>\n",
       "      <td>Sell In</td>\n",
       "    </tr>\n",
       "    <tr>\n",
       "      <th>...</th>\n",
       "      <td>...</td>\n",
       "      <td>...</td>\n",
       "      <td>...</td>\n",
       "      <td>...</td>\n",
       "      <td>...</td>\n",
       "      <td>...</td>\n",
       "      <td>...</td>\n",
       "      <td>...</td>\n",
       "      <td>...</td>\n",
       "      <td>...</td>\n",
       "      <td>...</td>\n",
       "      <td>...</td>\n",
       "      <td>...</td>\n",
       "    </tr>\n",
       "    <tr>\n",
       "      <th>26294</th>\n",
       "      <td>2022-03-01</td>\n",
       "      <td>YOPOGOELHIELO</td>\n",
       "      <td>VODKA</td>\n",
       "      <td>ERISTOFF</td>\n",
       "      <td>ERISTOFF VODKA</td>\n",
       "      <td>100.0</td>\n",
       "      <td>STANDARD</td>\n",
       "      <td>Spain</td>\n",
       "      <td>N</td>\n",
       "      <td>ES</td>\n",
       "      <td>EUR</td>\n",
       "      <td>6.666667</td>\n",
       "      <td>Sell In</td>\n",
       "    </tr>\n",
       "    <tr>\n",
       "      <th>26295</th>\n",
       "      <td>2022-03-01</td>\n",
       "      <td>YOPOGOELHIELO</td>\n",
       "      <td>VODKA</td>\n",
       "      <td>ERISTOFF</td>\n",
       "      <td>ERISTOFF VODKA</td>\n",
       "      <td>70.0</td>\n",
       "      <td>STANDARD</td>\n",
       "      <td>Spain</td>\n",
       "      <td>N</td>\n",
       "      <td>ES</td>\n",
       "      <td>EUR</td>\n",
       "      <td>4.666667</td>\n",
       "      <td>Sell In</td>\n",
       "    </tr>\n",
       "    <tr>\n",
       "      <th>26296</th>\n",
       "      <td>2022-03-01</td>\n",
       "      <td>YOPOGOELHIELO</td>\n",
       "      <td>VODKA</td>\n",
       "      <td>GREY GOOSE</td>\n",
       "      <td>GREY GOOSE ORIGINAL</td>\n",
       "      <td>70.0</td>\n",
       "      <td>STANDARD</td>\n",
       "      <td>Spain</td>\n",
       "      <td>N</td>\n",
       "      <td>ES</td>\n",
       "      <td>EUR</td>\n",
       "      <td>9.333333</td>\n",
       "      <td>Sell In</td>\n",
       "    </tr>\n",
       "    <tr>\n",
       "      <th>26297</th>\n",
       "      <td>2022-03-01</td>\n",
       "      <td>YOPOGOELHIELO</td>\n",
       "      <td>WHISKY - Blended</td>\n",
       "      <td>DEWAR'S</td>\n",
       "      <td>DEWAR'S CARIBBEAN SMOOTH</td>\n",
       "      <td>70.0</td>\n",
       "      <td>PREMIUM</td>\n",
       "      <td>Spain</td>\n",
       "      <td>N</td>\n",
       "      <td>ES</td>\n",
       "      <td>EUR</td>\n",
       "      <td>0.466667</td>\n",
       "      <td>Sell In</td>\n",
       "    </tr>\n",
       "    <tr>\n",
       "      <th>26298</th>\n",
       "      <td>2022-03-01</td>\n",
       "      <td>YOPOGOELHIELO</td>\n",
       "      <td>WHISKY - Blended</td>\n",
       "      <td>WILLIAM LAWSON'S</td>\n",
       "      <td>WILLIAM LAWSON'S FINEST BLENDED</td>\n",
       "      <td>100.0</td>\n",
       "      <td>STANDARD</td>\n",
       "      <td>Spain</td>\n",
       "      <td>N</td>\n",
       "      <td>ES</td>\n",
       "      <td>EUR</td>\n",
       "      <td>0.666667</td>\n",
       "      <td>Sell In</td>\n",
       "    </tr>\n",
       "  </tbody>\n",
       "</table>\n",
       "<p>26299 rows × 13 columns</p>\n",
       "</div>"
      ],
      "text/plain": [
       "           Month Customer Group 1          Category             Brand  \\\n",
       "0     2019-04-01    Amazon France         SPARKLING            AGENCY   \n",
       "1     2019-04-01    Amazon France         SPARKLING            AGENCY   \n",
       "2     2019-04-01    Amazon France           CACHACA            LEBLON   \n",
       "3     2019-04-01    Amazon France            COGNAC             OTARD   \n",
       "4     2019-04-01    Amazon France               GIN            BOMBAY   \n",
       "...          ...              ...               ...               ...   \n",
       "26294 2022-03-01    YOPOGOELHIELO             VODKA          ERISTOFF   \n",
       "26295 2022-03-01    YOPOGOELHIELO             VODKA          ERISTOFF   \n",
       "26296 2022-03-01    YOPOGOELHIELO             VODKA        GREY GOOSE   \n",
       "26297 2022-03-01    YOPOGOELHIELO  WHISKY - Blended           DEWAR'S   \n",
       "26298 2022-03-01    YOPOGOELHIELO  WHISKY - Blended  WILLIAM LAWSON'S   \n",
       "\n",
       "                             Brandline  Format Classification Geography  \\\n",
       "0                      PIPER HEIDSIECK    75.0       STANDARD    France   \n",
       "1                 PIPER HEIDSIECK ROSE    75.0       STANDARD    France   \n",
       "2                       LEBLON CACHACA    70.0        PREMIUM    France   \n",
       "3                           OTARD VSOP    70.0        PREMIUM    France   \n",
       "4                           BOMBAY GIN    70.0       STANDARD    France   \n",
       "...                                ...     ...            ...       ...   \n",
       "26294                   ERISTOFF VODKA   100.0       STANDARD     Spain   \n",
       "26295                   ERISTOFF VODKA    70.0       STANDARD     Spain   \n",
       "26296              GREY GOOSE ORIGINAL    70.0       STANDARD     Spain   \n",
       "26297         DEWAR'S CARIBBEAN SMOOTH    70.0        PREMIUM     Spain   \n",
       "26298  WILLIAM LAWSON'S FINEST BLENDED   100.0       STANDARD     Spain   \n",
       "\n",
       "      Agency Toggle Market Currency    Vol 9LC  DataInd  \n",
       "0                 Y     FR      EUR  15.500000  Sell In  \n",
       "1                 Y     FR      EUR   1.500000  Sell In  \n",
       "2                 N     FR      EUR   0.466667  Sell In  \n",
       "3                 N     FR      EUR   0.933333  Sell In  \n",
       "4                 N     FR      EUR   3.733333  Sell In  \n",
       "...             ...    ...      ...        ...      ...  \n",
       "26294             N     ES      EUR   6.666667  Sell In  \n",
       "26295             N     ES      EUR   4.666667  Sell In  \n",
       "26296             N     ES      EUR   9.333333  Sell In  \n",
       "26297             N     ES      EUR   0.466667  Sell In  \n",
       "26298             N     ES      EUR   0.666667  Sell In  \n",
       "\n",
       "[26299 rows x 13 columns]"
      ]
     },
     "execution_count": 5,
     "metadata": {},
     "output_type": "execute_result"
    }
   ],
   "source": [
    "df"
   ]
  },
  {
   "cell_type": "markdown",
   "id": "0728a755",
   "metadata": {},
   "source": [
    "### 1.1 Formating DataFrame (previous formating done in excel)"
   ]
  },
  {
   "cell_type": "code",
   "execution_count": 6,
   "id": "8bf21239",
   "metadata": {},
   "outputs": [],
   "source": [
    "# focusing on Brands as a whole\n",
    "df = df.drop(['Brandline'], axis = 1)\n",
    "\n",
    "# resetting index\n",
    "df.reset_index(drop=True, inplace=True)\n",
    "\n",
    "# change data type of Format\n",
    "df['Format'] = df['Format'].astype('object')"
   ]
  },
  {
   "cell_type": "markdown",
   "id": "cdea3ec0",
   "metadata": {},
   "source": [
    "# 2. Statistical Model SARIMA (Seasonally adjusted ARIMA)"
   ]
  },
  {
   "cell_type": "code",
   "execution_count": 7,
   "id": "8e6dbccb",
   "metadata": {},
   "outputs": [],
   "source": [
    "import seaborn as sns\n",
    "import matplotlib.pyplot as plt\n",
    "import statsmodels.api as sm\n",
    "import datetime\n",
    "from dateutil.relativedelta import relativedelta"
   ]
  },
  {
   "cell_type": "code",
   "execution_count": 8,
   "id": "8d69cd1b",
   "metadata": {},
   "outputs": [],
   "source": [
    "# creating DataFrame\n",
    "df_arima = df.groupby(['Month']).sum()"
   ]
  },
  {
   "cell_type": "code",
   "execution_count": 9,
   "id": "e72b01d9",
   "metadata": {},
   "outputs": [],
   "source": [
    "# plot formating\n",
    "sns.set(rc = {'figure.figsize':(20,8)})\n",
    "sns.set_style('whitegrid')"
   ]
  },
  {
   "cell_type": "markdown",
   "id": "26334a33",
   "metadata": {},
   "source": [
    "## 2.1 Automated Model"
   ]
  },
  {
   "cell_type": "markdown",
   "id": "b62dbc77",
   "metadata": {},
   "source": [
    "for the un-automated version see below"
   ]
  },
  {
   "cell_type": "markdown",
   "id": "16a9b403",
   "metadata": {},
   "source": [
    "### 2.1.1 Check accuracy of our stats model by comparing to the past"
   ]
  },
  {
   "cell_type": "code",
   "execution_count": 10,
   "id": "af4772b5",
   "metadata": {},
   "outputs": [],
   "source": [
    "import pmdarima as pm\n",
    "from pmdarima.model_selection import train_test_split"
   ]
  },
  {
   "cell_type": "code",
   "execution_count": 11,
   "id": "9e8528e5",
   "metadata": {},
   "outputs": [],
   "source": [
    "model = pm.auto_arima(df_arima['Vol 9LC'], seasonal=True, m=9)\n",
    "preds = model.predict(len(df_arima['Vol 9LC'])-18, len(df_arima['Vol 9LC'])-1)"
   ]
  },
  {
   "cell_type": "code",
   "execution_count": 12,
   "id": "acf55cb9",
   "metadata": {},
   "outputs": [
    {
     "name": "stdout",
     "output_type": "stream",
     "text": [
      "36 [0, 0, 0, 0, 0, 0, 0, 0, 0, 0, 0, 0, 0, 0, 0, 0, 0, 0, 15145.535213631818, 16183.45924580929, 14842.434360518226, 7502.604875941736, 16897.864120222363, 16859.08512969833, 11189.663909189094, 16759.93874668941, 13084.72145469837, 12927.56210714938, 12050.863404350734, 14765.993780504003, 13350.416675470646, 24545.819648948105, 20362.283686820487, 8795.50367711626, 12680.821606392548, 13237.333280742632]\n"
     ]
    }
   ],
   "source": [
    "forecast = []\n",
    "for i in range(1,19):\n",
    "    forecast.append(0)\n",
    "for i in preds:\n",
    "    forecast.append(i)\n",
    "print(len(forecast),forecast)"
   ]
  },
  {
   "cell_type": "code",
   "execution_count": 13,
   "id": "abed87dd",
   "metadata": {},
   "outputs": [
    {
     "data": {
      "image/png": "[encoded data removed]",
      "text/plain": [
       "<Figure size 1080x360 with 1 Axes>"
      ]
     },
     "metadata": {},
     "output_type": "display_data"
    }
   ],
   "source": [
    "df_arima['forecast_arima'] = forecast\n",
    "df_arima['forecast_arima'] = df_arima['forecast_arima'].replace(0, np.nan)\n",
    "df_arima[['forecast_arima','Vol 9LC']].plot(figsize = (15,5));"
   ]
  },
  {
   "cell_type": "markdown",
   "id": "840c5cd7",
   "metadata": {},
   "source": [
    "### 2.1.2 Forecast into the future"
   ]
  },
  {
   "cell_type": "code",
   "execution_count": 14,
   "id": "28425b7b",
   "metadata": {},
   "outputs": [],
   "source": [
    "import warnings\n",
    "warnings.filterwarnings('ignore')"
   ]
  },
  {
   "cell_type": "code",
   "execution_count": 15,
   "id": "ce78802f",
   "metadata": {},
   "outputs": [],
   "source": [
    "# removing \"forecast of the past\"\n",
    "df_arima = df_arima.drop(['forecast_arima'], axis = 1)"
   ]
  },
  {
   "cell_type": "code",
   "execution_count": 16,
   "id": "4de52999",
   "metadata": {},
   "outputs": [],
   "source": [
    "# creating a \"future DataFrame\"\n",
    "start = datetime.datetime.strptime('2022-04-01','%Y-%m-%d')\n",
    "date_list = [start + relativedelta(months = x) for x in range (0,12)]\n",
    "future = pd.DataFrame(index = date_list, columns = df_arima.columns)"
   ]
  },
  {
   "cell_type": "code",
   "execution_count": 17,
   "id": "fb6b8b17",
   "metadata": {},
   "outputs": [
    {
     "data": {
      "text/html": [
       "<div>\n",
       "<style scoped>\n",
       "    .dataframe tbody tr th:only-of-type {\n",
       "        vertical-align: middle;\n",
       "    }\n",
       "\n",
       "    .dataframe tbody tr th {\n",
       "        vertical-align: top;\n",
       "    }\n",
       "\n",
       "    .dataframe thead th {\n",
       "        text-align: right;\n",
       "    }\n",
       "</style>\n",
       "<table border=\"1\" class=\"dataframe\">\n",
       "  <thead>\n",
       "    <tr style=\"text-align: right;\">\n",
       "      <th></th>\n",
       "      <th>Vol 9LC</th>\n",
       "    </tr>\n",
       "    <tr>\n",
       "      <th>index</th>\n",
       "      <th></th>\n",
       "    </tr>\n",
       "  </thead>\n",
       "  <tbody>\n",
       "    <tr>\n",
       "      <th>2019-04-01</th>\n",
       "      <td>2780.742379</td>\n",
       "    </tr>\n",
       "    <tr>\n",
       "      <th>2019-05-01</th>\n",
       "      <td>4005.14139</td>\n",
       "    </tr>\n",
       "    <tr>\n",
       "      <th>2019-06-01</th>\n",
       "      <td>7215.512067</td>\n",
       "    </tr>\n",
       "    <tr>\n",
       "      <th>2019-07-01</th>\n",
       "      <td>6008.680143</td>\n",
       "    </tr>\n",
       "    <tr>\n",
       "      <th>2019-08-01</th>\n",
       "      <td>3616.573866</td>\n",
       "    </tr>\n",
       "    <tr>\n",
       "      <th>2019-09-01</th>\n",
       "      <td>4391.238885</td>\n",
       "    </tr>\n",
       "    <tr>\n",
       "      <th>2019-10-01</th>\n",
       "      <td>13121.70026</td>\n",
       "    </tr>\n",
       "    <tr>\n",
       "      <th>2019-11-01</th>\n",
       "      <td>11183.57021</td>\n",
       "    </tr>\n",
       "    <tr>\n",
       "      <th>2019-12-01</th>\n",
       "      <td>8908.099275</td>\n",
       "    </tr>\n",
       "    <tr>\n",
       "      <th>2020-01-01</th>\n",
       "      <td>2871.502299</td>\n",
       "    </tr>\n",
       "    <tr>\n",
       "      <th>2020-02-01</th>\n",
       "      <td>3145.782417</td>\n",
       "    </tr>\n",
       "    <tr>\n",
       "      <th>2020-03-01</th>\n",
       "      <td>5774.842689</td>\n",
       "    </tr>\n",
       "    <tr>\n",
       "      <th>2020-04-01</th>\n",
       "      <td>10238.505258</td>\n",
       "    </tr>\n",
       "    <tr>\n",
       "      <th>2020-05-01</th>\n",
       "      <td>9234.605479</td>\n",
       "    </tr>\n",
       "    <tr>\n",
       "      <th>2020-06-01</th>\n",
       "      <td>9785.968118</td>\n",
       "    </tr>\n",
       "    <tr>\n",
       "      <th>2020-07-01</th>\n",
       "      <td>6421.516873</td>\n",
       "    </tr>\n",
       "    <tr>\n",
       "      <th>2020-08-01</th>\n",
       "      <td>6896.645189</td>\n",
       "    </tr>\n",
       "    <tr>\n",
       "      <th>2020-09-01</th>\n",
       "      <td>9969.98081</td>\n",
       "    </tr>\n",
       "    <tr>\n",
       "      <th>2020-10-01</th>\n",
       "      <td>12753.658558</td>\n",
       "    </tr>\n",
       "    <tr>\n",
       "      <th>2020-11-01</th>\n",
       "      <td>15115.418285</td>\n",
       "    </tr>\n",
       "    <tr>\n",
       "      <th>2020-12-01</th>\n",
       "      <td>10420.779353</td>\n",
       "    </tr>\n",
       "    <tr>\n",
       "      <th>2021-01-01</th>\n",
       "      <td>4626.55716</td>\n",
       "    </tr>\n",
       "    <tr>\n",
       "      <th>2021-02-01</th>\n",
       "      <td>6232.355992</td>\n",
       "    </tr>\n",
       "    <tr>\n",
       "      <th>2021-03-01</th>\n",
       "      <td>8662.748121</td>\n",
       "    </tr>\n",
       "    <tr>\n",
       "      <th>2021-04-01</th>\n",
       "      <td>7404.298603</td>\n",
       "    </tr>\n",
       "    <tr>\n",
       "      <th>2021-05-01</th>\n",
       "      <td>9449.185617</td>\n",
       "    </tr>\n",
       "    <tr>\n",
       "      <th>2021-06-01</th>\n",
       "      <td>11260.189876</td>\n",
       "    </tr>\n",
       "    <tr>\n",
       "      <th>2021-07-01</th>\n",
       "      <td>9662.570718</td>\n",
       "    </tr>\n",
       "    <tr>\n",
       "      <th>2021-08-01</th>\n",
       "      <td>8447.130522</td>\n",
       "    </tr>\n",
       "    <tr>\n",
       "      <th>2021-09-01</th>\n",
       "      <td>10887.028978</td>\n",
       "    </tr>\n",
       "    <tr>\n",
       "      <th>2021-10-01</th>\n",
       "      <td>9538.118459</td>\n",
       "    </tr>\n",
       "    <tr>\n",
       "      <th>2021-11-01</th>\n",
       "      <td>21074.655248</td>\n",
       "    </tr>\n",
       "    <tr>\n",
       "      <th>2021-12-01</th>\n",
       "      <td>17161.673583</td>\n",
       "    </tr>\n",
       "    <tr>\n",
       "      <th>2022-01-01</th>\n",
       "      <td>5521.210696</td>\n",
       "    </tr>\n",
       "    <tr>\n",
       "      <th>2022-02-01</th>\n",
       "      <td>9063.136621</td>\n",
       "    </tr>\n",
       "    <tr>\n",
       "      <th>2022-03-01</th>\n",
       "      <td>9353.878003</td>\n",
       "    </tr>\n",
       "    <tr>\n",
       "      <th>2022-04-01</th>\n",
       "      <td>NaN</td>\n",
       "    </tr>\n",
       "    <tr>\n",
       "      <th>2022-05-01</th>\n",
       "      <td>NaN</td>\n",
       "    </tr>\n",
       "    <tr>\n",
       "      <th>2022-06-01</th>\n",
       "      <td>NaN</td>\n",
       "    </tr>\n",
       "    <tr>\n",
       "      <th>2022-07-01</th>\n",
       "      <td>NaN</td>\n",
       "    </tr>\n",
       "    <tr>\n",
       "      <th>2022-08-01</th>\n",
       "      <td>NaN</td>\n",
       "    </tr>\n",
       "    <tr>\n",
       "      <th>2022-09-01</th>\n",
       "      <td>NaN</td>\n",
       "    </tr>\n",
       "    <tr>\n",
       "      <th>2022-10-01</th>\n",
       "      <td>NaN</td>\n",
       "    </tr>\n",
       "    <tr>\n",
       "      <th>2022-11-01</th>\n",
       "      <td>NaN</td>\n",
       "    </tr>\n",
       "    <tr>\n",
       "      <th>2022-12-01</th>\n",
       "      <td>NaN</td>\n",
       "    </tr>\n",
       "    <tr>\n",
       "      <th>2023-01-01</th>\n",
       "      <td>NaN</td>\n",
       "    </tr>\n",
       "    <tr>\n",
       "      <th>2023-02-01</th>\n",
       "      <td>NaN</td>\n",
       "    </tr>\n",
       "    <tr>\n",
       "      <th>2023-03-01</th>\n",
       "      <td>NaN</td>\n",
       "    </tr>\n",
       "  </tbody>\n",
       "</table>\n",
       "</div>"
      ],
      "text/plain": [
       "                 Vol 9LC\n",
       "index                   \n",
       "2019-04-01   2780.742379\n",
       "2019-05-01    4005.14139\n",
       "2019-06-01   7215.512067\n",
       "2019-07-01   6008.680143\n",
       "2019-08-01   3616.573866\n",
       "2019-09-01   4391.238885\n",
       "2019-10-01   13121.70026\n",
       "2019-11-01   11183.57021\n",
       "2019-12-01   8908.099275\n",
       "2020-01-01   2871.502299\n",
       "2020-02-01   3145.782417\n",
       "2020-03-01   5774.842689\n",
       "2020-04-01  10238.505258\n",
       "2020-05-01   9234.605479\n",
       "2020-06-01   9785.968118\n",
       "2020-07-01   6421.516873\n",
       "2020-08-01   6896.645189\n",
       "2020-09-01    9969.98081\n",
       "2020-10-01  12753.658558\n",
       "2020-11-01  15115.418285\n",
       "2020-12-01  10420.779353\n",
       "2021-01-01    4626.55716\n",
       "2021-02-01   6232.355992\n",
       "2021-03-01   8662.748121\n",
       "2021-04-01   7404.298603\n",
       "2021-05-01   9449.185617\n",
       "2021-06-01  11260.189876\n",
       "2021-07-01   9662.570718\n",
       "2021-08-01   8447.130522\n",
       "2021-09-01  10887.028978\n",
       "2021-10-01   9538.118459\n",
       "2021-11-01  21074.655248\n",
       "2021-12-01  17161.673583\n",
       "2022-01-01   5521.210696\n",
       "2022-02-01   9063.136621\n",
       "2022-03-01   9353.878003\n",
       "2022-04-01           NaN\n",
       "2022-05-01           NaN\n",
       "2022-06-01           NaN\n",
       "2022-07-01           NaN\n",
       "2022-08-01           NaN\n",
       "2022-09-01           NaN\n",
       "2022-10-01           NaN\n",
       "2022-11-01           NaN\n",
       "2022-12-01           NaN\n",
       "2023-01-01           NaN\n",
       "2023-02-01           NaN\n",
       "2023-03-01           NaN"
      ]
     },
     "execution_count": 17,
     "metadata": {},
     "output_type": "execute_result"
    }
   ],
   "source": [
    "# Combining DataFrames\n",
    "df_forecast = pd.concat([df_arima, future], axis = 0).reset_index()\n",
    "df_forecast.index = pd.DatetimeIndex(df_forecast['index'])\n",
    "del df_forecast['index']\n",
    "df_forecast"
   ]
  },
  {
   "cell_type": "code",
   "execution_count": 18,
   "id": "6f79d7e1",
   "metadata": {},
   "outputs": [],
   "source": [
    "import pmdarima as pm\n",
    "from pmdarima.model_selection import train_test_split"
   ]
  },
  {
   "cell_type": "code",
   "execution_count": 19,
   "id": "952791b6",
   "metadata": {},
   "outputs": [
    {
     "data": {
      "text/plain": [
       "ARIMA(order=(0, 0, 0), scoring_args={}, seasonal_order=(0, 1, 0, 12),\n",
       "      suppress_warnings=True)"
      ]
     },
     "execution_count": 19,
     "metadata": {},
     "output_type": "execute_result"
    }
   ],
   "source": [
    "# Generating parameters automatically\n",
    "model = pm.auto_arima(df_arima['Vol 9LC'], seasonal=True, m=12)\n",
    "auto = model.fit(df_arima['Vol 9LC'])\n",
    "auto"
   ]
  },
  {
   "cell_type": "code",
   "execution_count": 20,
   "id": "572d4ba0",
   "metadata": {},
   "outputs": [
    {
     "data": {
      "image/png": "[encoded data removed]",
      "text/plain": [
       "<Figure size 1080x360 with 1 Axes>"
      ]
     },
     "metadata": {},
     "output_type": "display_data"
    }
   ],
   "source": [
    "# Implementing and plotting seasonally adjusted model\n",
    "from statsmodels.tsa.arima.model import ARIMA\n",
    "model = ARIMA(df_arima['Vol 9LC'], order = (2,0,2), seasonal_order = (0,1,0,12))\n",
    "\n",
    "model_fit1 = model.fit()\n",
    "df_forecast['forecast_arima'] = model_fit1.predict(start = 35, end = 48, dynamic = True)\n",
    "\n",
    "df_forecast[['forecast_arima', 'Vol 9LC']].plot(figsize = (15,5))\n",
    "plt.grid(True);"
   ]
  },
  {
   "cell_type": "markdown",
   "id": "5f9cd5b9",
   "metadata": {},
   "source": [
    "## 2.1.3 Create csv file"
   ]
  },
  {
   "cell_type": "code",
   "execution_count": 21,
   "id": "ea84eec9",
   "metadata": {},
   "outputs": [],
   "source": [
    "df_forecast.to_csv('Sarima_forecast.csv')"
   ]
  },
  {
   "cell_type": "markdown",
   "id": "6ccef948",
   "metadata": {},
   "source": [
    "## 2.2 Manual Version"
   ]
  },
  {
   "cell_type": "markdown",
   "id": "ab48a949",
   "metadata": {},
   "source": [
    "- p - decomposition plots\n",
    "- d - patial autocorrelation plots\n",
    "- q - adfuller"
   ]
  },
  {
   "cell_type": "markdown",
   "id": "418d895d",
   "metadata": {},
   "source": [
    "### 2.2.1 - P"
   ]
  },
  {
   "cell_type": "code",
   "execution_count": 22,
   "id": "f587609f",
   "metadata": {},
   "outputs": [],
   "source": [
    "sns.set(rc = {'figure.figsize':(20,8)})\n",
    "sns.set_style('whitegrid')"
   ]
  },
  {
   "cell_type": "code",
   "execution_count": 23,
   "id": "952a9d1f",
   "metadata": {},
   "outputs": [
    {
     "data": {
      "image/png": "[encoded data removed]",
      "text/plain": [
       "<Figure size 1440x576 with 4 Axes>"
      ]
     },
     "metadata": {},
     "output_type": "display_data"
    }
   ],
   "source": [
    "decomp = sm.tsa.seasonal_decompose(df_arima['Vol 9LC'], period = 3)\n",
    "decomp.plot()\n",
    "plt.show;"
   ]
  },
  {
   "cell_type": "markdown",
   "id": "73cc4fc8",
   "metadata": {},
   "source": [
    "### 2.2.2 D"
   ]
  },
  {
   "cell_type": "code",
   "execution_count": 24,
   "id": "3a5fb0a6",
   "metadata": {},
   "outputs": [
    {
     "data": {
      "image/png": "[encoded data removed]",
      "text/plain": [
       "<Figure size 1440x576 with 1 Axes>"
      ]
     },
     "execution_count": 24,
     "metadata": {},
     "output_type": "execute_result"
    },
    {
     "data": {
      "image/png": "[encoded data removed]",
      "text/plain": [
       "<Figure size 1440x576 with 1 Axes>"
      ]
     },
     "metadata": {},
     "output_type": "display_data"
    }
   ],
   "source": [
    "selected = df['Vol 9LC']\n",
    "from statsmodels.graphics.tsaplots import plot_pacf\n",
    "plot_pacf(selected, method='ywm')"
   ]
  },
  {
   "cell_type": "markdown",
   "id": "b197a677",
   "metadata": {},
   "source": [
    "### 2.2.3 Q"
   ]
  },
  {
   "cell_type": "code",
   "execution_count": 25,
   "id": "cdca61c2",
   "metadata": {},
   "outputs": [
    {
     "name": "stdout",
     "output_type": "stream",
     "text": [
      "ADF test statistic: -4.2652210283232\n",
      "ADF p-values: 0.0005100156183918444\n",
      "ADF number of lags used: 1\n",
      "ADF number of observations: 34\n",
      "ADF critical values: {'1%': -3.639224104416853, '5%': -2.9512301791166293, '10%': -2.614446989619377}\n",
      "ADF best information criterion: 480.39694101723177\n"
     ]
    }
   ],
   "source": [
    "from statsmodels.tsa.stattools import adfuller\n",
    "adf, pval, usedlag, nobs, crit_vals, icbest =  adfuller(df_arima['Vol 9LC'].values)\n",
    "print('ADF test statistic:', adf)\n",
    "print('ADF p-values:', pval)\n",
    "print('ADF number of lags used:', usedlag)\n",
    "print('ADF number of observations:', nobs)\n",
    "print('ADF critical values:', crit_vals)\n",
    "print('ADF best information criterion:', icbest)"
   ]
  },
  {
   "cell_type": "markdown",
   "id": "3d220d8d",
   "metadata": {},
   "source": [
    "# 3. Forecast through Machine Learning"
   ]
  },
  {
   "cell_type": "markdown",
   "id": "bb246c5e",
   "metadata": {},
   "source": [
    "Note: The accuracy of Machine Learning is heavily dependent on the amount of information the machine gets, i.e. number of column and rows. Thus we gathered and stored data in the excel sheet:'ML_features_final.xlsx', in order to have enough features to create a proper model"
   ]
  },
  {
   "cell_type": "code",
   "execution_count": 26,
   "id": "36fa0b48",
   "metadata": {},
   "outputs": [],
   "source": [
    "# read test and train sheet into python\n",
    "xls = pd.ExcelFile('ML_features_final.xlsx')\n",
    "df_train = pd.read_excel(xls, 'Train')\n",
    "df_pred = pd.read_excel(xls, 'Prediction')"
   ]
  },
  {
   "cell_type": "markdown",
   "id": "44b14600",
   "metadata": {},
   "source": [
    "## 3.1 Combining DataFrames"
   ]
  },
  {
   "cell_type": "code",
   "execution_count": 27,
   "id": "d18b1d5e",
   "metadata": {},
   "outputs": [],
   "source": [
    "# concatenate and reset index\n",
    "df = pd.concat([df_train,df_pred], axis = 0)\n",
    "df.reset_index(inplace = True, drop =True)"
   ]
  },
  {
   "cell_type": "code",
   "execution_count": 28,
   "id": "53070627",
   "metadata": {},
   "outputs": [],
   "source": [
    "# drop unwanted columns\n",
    "df = df.drop(['Customer Group 1','Brand','Brandline', 'Currency', 'DataInd', 'Market'], axis = 1)"
   ]
  },
  {
   "cell_type": "markdown",
   "id": "4d5dd598",
   "metadata": {},
   "source": [
    "## 3.2 Preprocessing"
   ]
  },
  {
   "cell_type": "code",
   "execution_count": 29,
   "id": "4d28a020",
   "metadata": {},
   "outputs": [],
   "source": [
    "# we want format to be an object\n",
    "df['Format'] = df['Format'].astype(object)"
   ]
  },
  {
   "cell_type": "code",
   "execution_count": 30,
   "id": "ff81c843",
   "metadata": {},
   "outputs": [],
   "source": [
    "# set X and y\n",
    "y = df['Vol 9LC']\n",
    "X = df.drop(['Vol 9LC', 'Month'], axis = 1)"
   ]
  },
  {
   "cell_type": "code",
   "execution_count": 31,
   "id": "3a3ed73f",
   "metadata": {},
   "outputs": [],
   "source": [
    "# split into data types\n",
    "numericals = X.select_dtypes(np.number)\n",
    "categoricals = X.select_dtypes(object)"
   ]
  },
  {
   "cell_type": "markdown",
   "id": "27de4bd3",
   "metadata": {},
   "source": [
    "### 3.2.1 Numericals"
   ]
  },
  {
   "cell_type": "code",
   "execution_count": 32,
   "id": "6c3044ce",
   "metadata": {},
   "outputs": [],
   "source": [
    "# scale our only numerical: temperature\n",
    "from sklearn.preprocessing import MinMaxScaler\n",
    "num_scaled = MinMaxScaler().fit_transform(numericals.values)\n",
    "df_numericals = pd.DataFrame(num_scaled, columns = ['Temperature'])"
   ]
  },
  {
   "cell_type": "markdown",
   "id": "d02694ef",
   "metadata": {},
   "source": [
    "### 3.2.2 Categoricals"
   ]
  },
  {
   "cell_type": "code",
   "execution_count": 33,
   "id": "4cf94c4b",
   "metadata": {},
   "outputs": [],
   "source": [
    "# encode categoricals with one hot encoder\n",
    "from sklearn.preprocessing import OneHotEncoder as ohe\n",
    "encoder = ohe(drop = 'first').fit(categoricals)\n",
    "cat_enc = encoder.transform(categoricals).toarray()\n",
    "cat_enc_cols = encoder.get_feature_names_out(categoricals.columns)\n",
    "cat_enc_df = pd.DataFrame(cat_enc, columns = cat_enc_cols)\n",
    "df_categoricals = cat_enc_df"
   ]
  },
  {
   "cell_type": "markdown",
   "id": "75139218",
   "metadata": {},
   "source": [
    "### 3.2.3 Returning to old form"
   ]
  },
  {
   "cell_type": "code",
   "execution_count": 34,
   "id": "275cc708",
   "metadata": {},
   "outputs": [],
   "source": [
    "# combining types\n",
    "X_full = pd.concat([df_categoricals,df_numericals], axis =1)\n",
    "# combining X and y\n",
    "df_full = pd.concat([X_full,y], axis =1)"
   ]
  },
  {
   "cell_type": "markdown",
   "id": "0ecd2a92",
   "metadata": {},
   "source": [
    "### 3.2.4 Creating train-forecast split"
   ]
  },
  {
   "cell_type": "code",
   "execution_count": 35,
   "id": "1cc34b72",
   "metadata": {},
   "outputs": [],
   "source": [
    "# forecast\n",
    "df_pred_final = df_full[df_full['Vol 9LC'].isna()]\n",
    "# train\n",
    "df_train_final = df_full[df_full['Vol 9LC'].notnull()]"
   ]
  },
  {
   "cell_type": "markdown",
   "id": "163c81ed",
   "metadata": {},
   "source": [
    "## 3.3 Boosted model"
   ]
  },
  {
   "cell_type": "code",
   "execution_count": 36,
   "id": "3b76ef9f",
   "metadata": {},
   "outputs": [],
   "source": [
    "# X, y split\n",
    "y_train = df_train_final['Vol 9LC']\n",
    "X_train = df_train_final.drop(['Vol 9LC'], axis = 1)"
   ]
  },
  {
   "cell_type": "code",
   "execution_count": 37,
   "id": "7f8dceb0",
   "metadata": {},
   "outputs": [
    {
     "data": {
      "text/plain": [
       "RandomForestRegressor(max_depth=6, n_estimators=200, random_state=40)"
      ]
     },
     "execution_count": 37,
     "metadata": {},
     "output_type": "execute_result"
    }
   ],
   "source": [
    "# Random Forest Regression\n",
    "from sklearn.ensemble import RandomForestRegressor as rfr\n",
    "reg = rfr(n_estimators = 200, max_depth = 6, random_state = 40)\n",
    "reg.fit(X_train, y_train)"
   ]
  },
  {
   "cell_type": "markdown",
   "id": "96da7967",
   "metadata": {},
   "source": [
    "### 3.3.1 Boosting"
   ]
  },
  {
   "cell_type": "code",
   "execution_count": 38,
   "id": "9143fb55",
   "metadata": {},
   "outputs": [
    {
     "data": {
      "text/plain": [
       "Temperature                     0.308346\n",
       "Format_100.0                    0.195221\n",
       "Category_GIN                    0.123505\n",
       "Geography_UK                    0.095322\n",
       "Upcoming Christmas_Yes          0.072910\n",
       "Classification_STANDARD         0.041733\n",
       "Geography_Germany               0.034949\n",
       "Consumer Confidence_Increase    0.021587\n",
       "Movement_Low                    0.016363\n",
       "Movement_Very Low               0.016072\n",
       "Format_70.0                     0.014641\n",
       "Category_RUM                    0.013737\n",
       "Format_75.0                     0.013061\n",
       "Geography_Spain                 0.005011\n",
       "Category_NON-ALCOHOLIC          0.004711\n",
       "Movement_High                   0.003246\n",
       "Season_spring                   0.003192\n",
       "Category_SPARKLING              0.002390\n",
       "Season_winter                   0.002335\n",
       "Category_WHISKY - Blended       0.001890\n",
       "Format_150.0                    0.001643\n",
       "Season_summer                   0.001503\n",
       "Category_LIQUEUR                0.001472\n",
       "Category_VERMOUTH               0.001324\n",
       "Category_WHISKY - Malts         0.001122\n",
       "Format_25.0                     0.000815\n",
       "Category_RTD/RTS                0.000567\n",
       "Geography_Italy                 0.000511\n",
       "Category_VODKA                  0.000419\n",
       "Category_COGNAC                 0.000159\n",
       "Category_TEQUILA                0.000104\n",
       "Format_33.0                     0.000071\n",
       "Format_35.0                     0.000027\n",
       "Format_27.5                     0.000021\n",
       "Agency Toggle_Y                 0.000008\n",
       "Category_MULTIBRAND             0.000005\n",
       "Format_50.0                     0.000005\n",
       "Format_10.0                     0.000003\n",
       "Format_6.0                      0.000000\n",
       "Format_15.0                     0.000000\n",
       "Format_18.0                     0.000000\n",
       "Format_20.0                     0.000000\n",
       "Format_200.0                    0.000000\n",
       "Format_175.0                    0.000000\n",
       "Format_37.5                     0.000000\n",
       "Format_47.3                     0.000000\n",
       "Classification_Unknown          0.000000\n",
       "Format_900.0                    0.000000\n",
       "Format_600.0                    0.000000\n",
       "Format_450.0                    0.000000\n",
       "Format_300.0                    0.000000\n",
       "dtype: float64"
      ]
     },
     "execution_count": 38,
     "metadata": {},
     "output_type": "execute_result"
    }
   ],
   "source": [
    "# feature importance\n",
    "feature_importances = reg.feature_importances_\n",
    "feature_names = X_train.columns\n",
    "forest_importances = pd.Series(feature_importances, index = feature_names)\n",
    "lst = forest_importances.tolist()\n",
    "forest_importances.sort_values(ascending = False)"
   ]
  },
  {
   "cell_type": "markdown",
   "id": "7a6a2eee",
   "metadata": {},
   "source": [
    "### 3.3.2 Re-run Model"
   ]
  },
  {
   "cell_type": "code",
   "execution_count": 39,
   "id": "0259f3a6",
   "metadata": {},
   "outputs": [],
   "source": [
    "# resetting X and y\n",
    "y_train = df_train_final['Vol 9LC']\n",
    "X_train = df_train_final.drop(['Vol 9LC'], axis = 1)"
   ]
  },
  {
   "cell_type": "code",
   "execution_count": 40,
   "id": "9a446140",
   "metadata": {},
   "outputs": [],
   "source": [
    "# Creating optimized X_train (treshold for importance chosen at 0,004)\n",
    "X_train_opt = X_train[[\"Temperature\",\"Format_100.0\",\"Category_GIN\",\"Geography_UK\",\"Upcoming Christmas_Yes\",\n",
    "                       \"Classification_STANDARD\",\"Geography_Germany\",\"Consumer Confidence_Increase\",\n",
    "                       \"Movement_Very Low\",\"Category_RUM\",\"Format_70.0\",\"Movement_Low\",\"Format_75.0\",\n",
    "                       \"Geography_Spain\",\"Category_NON-ALCOHOLIC\",\"Season_spring\"]]   "
   ]
  },
  {
   "cell_type": "code",
   "execution_count": 41,
   "id": "0baa18d2",
   "metadata": {},
   "outputs": [],
   "source": [
    "# repeat for prediction\n",
    "y_pred= df_pred_final['Vol 9LC']\n",
    "X_pred = df_pred_final.drop(['Vol 9LC'], axis = 1)"
   ]
  },
  {
   "cell_type": "code",
   "execution_count": 42,
   "id": "563318e6",
   "metadata": {},
   "outputs": [],
   "source": [
    "X_pred_opt = X_pred[[\"Temperature\",\"Format_100.0\",\"Category_GIN\",\"Geography_UK\",\"Upcoming Christmas_Yes\",\n",
    "                       \"Classification_STANDARD\",\"Geography_Germany\",\"Consumer Confidence_Increase\",\n",
    "                       \"Movement_Very Low\",\"Category_RUM\",\"Format_70.0\",\"Movement_Low\",\"Format_75.0\",\n",
    "                       \"Geography_Spain\",\"Category_NON-ALCOHOLIC\",\"Season_spring\"]]   "
   ]
  },
  {
   "cell_type": "code",
   "execution_count": 43,
   "id": "cbfc581d",
   "metadata": {},
   "outputs": [],
   "source": [
    "# re-run model\n",
    "reg = rfr(n_estimators = 200, max_depth = 6, random_state = 40)\n",
    "reg.fit(X_train_opt, y_train)\n",
    "y_pred = reg.predict(X_pred_opt)"
   ]
  },
  {
   "cell_type": "markdown",
   "id": "5abd2eef",
   "metadata": {},
   "source": [
    "### 3.3.3 Assign predicted values"
   ]
  },
  {
   "cell_type": "code",
   "execution_count": 44,
   "id": "4563fd75",
   "metadata": {},
   "outputs": [],
   "source": [
    "# split train and pred DataFrames\n",
    "df_forecast = df[df['Vol 9LC'].isna()]\n",
    "df_past = df[df['Vol 9LC'].notnull()]"
   ]
  },
  {
   "cell_type": "code",
   "execution_count": 45,
   "id": "38f8c102",
   "metadata": {},
   "outputs": [],
   "source": [
    "# Create new column with forecast\n",
    "df_forecast['Forecast'] = y_pred"
   ]
  },
  {
   "cell_type": "code",
   "execution_count": 46,
   "id": "d1c96504",
   "metadata": {},
   "outputs": [],
   "source": [
    "# Add DataFrames together\n",
    "df_full_volume = pd.concat([df_past, df_forecast], axis = 0)"
   ]
  },
  {
   "cell_type": "code",
   "execution_count": 47,
   "id": "6f9c51c4",
   "metadata": {},
   "outputs": [],
   "source": [
    "# Grouping by month\n",
    "#df_full_volume = df_full_volume.groupby(['Month']).sum()"
   ]
  },
  {
   "cell_type": "code",
   "execution_count": 48,
   "id": "eb5f890b",
   "metadata": {},
   "outputs": [],
   "source": [
    "# Turning 0s, created by sum() into nulls again\n",
    "#df_full_volume = df_full_volume.replace(0, np.nan)"
   ]
  },
  {
   "cell_type": "markdown",
   "id": "ccff3dba",
   "metadata": {},
   "source": [
    "### 3.3.4 Depicting results"
   ]
  },
  {
   "cell_type": "code",
   "execution_count": 49,
   "id": "96515d5f",
   "metadata": {},
   "outputs": [
    {
     "data": {
      "image/png": "[encoded data removed]",
      "text/plain": [
       "<Figure size 1080x360 with 1 Axes>"
      ]
     },
     "metadata": {},
     "output_type": "display_data"
    }
   ],
   "source": [
    "df_full_volume[['Forecast', 'Vol 9LC']].plot(figsize = (15,5))\n",
    "plt.grid(True);"
   ]
  },
  {
   "cell_type": "markdown",
   "id": "465b9d70",
   "metadata": {},
   "source": [
    "## 3.4 Stacking"
   ]
  },
  {
   "cell_type": "markdown",
   "id": "8827fee2",
   "metadata": {},
   "source": [
    "Note: As we cannot \"test\" our results, we go on to stack multiple models on top of each other in order to achieve the highest accuracy. Regression models used are: RandomForest, K-Nearest-Neighbours, Linear"
   ]
  },
  {
   "cell_type": "markdown",
   "id": "a79697ee",
   "metadata": {},
   "source": [
    "### 3.4.1 Run stacked + boosted model"
   ]
  },
  {
   "cell_type": "code",
   "execution_count": 55,
   "id": "d70fa09c",
   "metadata": {},
   "outputs": [],
   "source": [
    "from sklearn.ensemble import StackingRegressor\n",
    "from sklearn.linear_model import LinearRegression\n",
    "from sklearn.neighbors import KNeighborsRegressor as knr\n",
    "\n",
    "estimators = [('rf', rfr(n_estimators=200, random_state=40, max_depth = 7)),('knr', knr(n_neighbors = 7))]\n",
    "reg = StackingRegressor(estimators=estimators, final_estimator= LinearRegression())\n",
    "reg.fit(X_train_opt, y_train)\n",
    "y_pred2 = reg.predict(X_pred_opt)"
   ]
  },
  {
   "cell_type": "markdown",
   "id": "e0ce7be1",
   "metadata": {},
   "source": [
    "### 3.4.2 Repeat assigning and depicting process"
   ]
  },
  {
   "cell_type": "code",
   "execution_count": 56,
   "id": "71799d5a",
   "metadata": {},
   "outputs": [],
   "source": [
    "df_forecast = df[df['Vol 9LC'].isna()]\n",
    "df_past = df[df['Vol 9LC'].notnull()]\n",
    "\n",
    "df_forecast['Forecast'] = y_pred2\n",
    "\n",
    "df_full_volume = pd.concat([df_past, df_forecast], axis = 0)\n",
    "\n",
    "#df_full_volume = df_full_volume.groupby(['Month']).sum()\n",
    "#df_full_volume = df_full_volume.replace(0, np.nan)"
   ]
  },
  {
   "cell_type": "code",
   "execution_count": 57,
   "id": "ff847b42",
   "metadata": {},
   "outputs": [
    {
     "data": {
      "image/png": "[encoded data removed]",
      "text/plain": [
       "<Figure size 1080x360 with 1 Axes>"
      ]
     },
     "metadata": {},
     "output_type": "display_data"
    }
   ],
   "source": [
    "df_full_volume[['Forecast', 'Vol 9LC']].plot(figsize = (15,5))\n",
    "plt.grid(True);"
   ]
  },
  {
   "cell_type": "code",
   "execution_count": 58,
   "id": "5ad725db",
   "metadata": {},
   "outputs": [
    {
     "data": {
      "text/html": [
       "<div>\n",
       "<style scoped>\n",
       "    .dataframe tbody tr th:only-of-type {\n",
       "        vertical-align: middle;\n",
       "    }\n",
       "\n",
       "    .dataframe tbody tr th {\n",
       "        vertical-align: top;\n",
       "    }\n",
       "\n",
       "    .dataframe thead th {\n",
       "        text-align: right;\n",
       "    }\n",
       "</style>\n",
       "<table border=\"1\" class=\"dataframe\">\n",
       "  <thead>\n",
       "    <tr style=\"text-align: right;\">\n",
       "      <th></th>\n",
       "      <th>Month</th>\n",
       "      <th>Category</th>\n",
       "      <th>Format</th>\n",
       "      <th>Classification</th>\n",
       "      <th>Geography</th>\n",
       "      <th>Agency Toggle</th>\n",
       "      <th>Vol 9LC</th>\n",
       "      <th>Season</th>\n",
       "      <th>Temperature</th>\n",
       "      <th>Consumer Confidence</th>\n",
       "      <th>Movement</th>\n",
       "      <th>Upcoming Christmas</th>\n",
       "      <th>Forecast</th>\n",
       "    </tr>\n",
       "  </thead>\n",
       "  <tbody>\n",
       "    <tr>\n",
       "      <th>0</th>\n",
       "      <td>2019-04-01</td>\n",
       "      <td>SPARKLING</td>\n",
       "      <td>75.0</td>\n",
       "      <td>STANDARD</td>\n",
       "      <td>France</td>\n",
       "      <td>Y</td>\n",
       "      <td>15.500000</td>\n",
       "      <td>spring</td>\n",
       "      <td>11.656333</td>\n",
       "      <td>Increase</td>\n",
       "      <td>Average</td>\n",
       "      <td>No</td>\n",
       "      <td>NaN</td>\n",
       "    </tr>\n",
       "    <tr>\n",
       "      <th>1</th>\n",
       "      <td>2019-04-01</td>\n",
       "      <td>SPARKLING</td>\n",
       "      <td>75.0</td>\n",
       "      <td>STANDARD</td>\n",
       "      <td>France</td>\n",
       "      <td>Y</td>\n",
       "      <td>1.500000</td>\n",
       "      <td>spring</td>\n",
       "      <td>11.656333</td>\n",
       "      <td>Increase</td>\n",
       "      <td>Average</td>\n",
       "      <td>No</td>\n",
       "      <td>NaN</td>\n",
       "    </tr>\n",
       "    <tr>\n",
       "      <th>2</th>\n",
       "      <td>2019-04-01</td>\n",
       "      <td>CACHACA</td>\n",
       "      <td>70.0</td>\n",
       "      <td>PREMIUM</td>\n",
       "      <td>France</td>\n",
       "      <td>N</td>\n",
       "      <td>0.466667</td>\n",
       "      <td>spring</td>\n",
       "      <td>11.656333</td>\n",
       "      <td>Increase</td>\n",
       "      <td>Average</td>\n",
       "      <td>No</td>\n",
       "      <td>NaN</td>\n",
       "    </tr>\n",
       "    <tr>\n",
       "      <th>3</th>\n",
       "      <td>2019-04-01</td>\n",
       "      <td>COGNAC</td>\n",
       "      <td>70.0</td>\n",
       "      <td>PREMIUM</td>\n",
       "      <td>France</td>\n",
       "      <td>N</td>\n",
       "      <td>0.933333</td>\n",
       "      <td>spring</td>\n",
       "      <td>11.656333</td>\n",
       "      <td>Increase</td>\n",
       "      <td>Average</td>\n",
       "      <td>No</td>\n",
       "      <td>NaN</td>\n",
       "    </tr>\n",
       "    <tr>\n",
       "      <th>4</th>\n",
       "      <td>2019-04-01</td>\n",
       "      <td>GIN</td>\n",
       "      <td>70.0</td>\n",
       "      <td>STANDARD</td>\n",
       "      <td>France</td>\n",
       "      <td>N</td>\n",
       "      <td>3.733333</td>\n",
       "      <td>spring</td>\n",
       "      <td>11.656333</td>\n",
       "      <td>Increase</td>\n",
       "      <td>Average</td>\n",
       "      <td>No</td>\n",
       "      <td>NaN</td>\n",
       "    </tr>\n",
       "    <tr>\n",
       "      <th>...</th>\n",
       "      <td>...</td>\n",
       "      <td>...</td>\n",
       "      <td>...</td>\n",
       "      <td>...</td>\n",
       "      <td>...</td>\n",
       "      <td>...</td>\n",
       "      <td>...</td>\n",
       "      <td>...</td>\n",
       "      <td>...</td>\n",
       "      <td>...</td>\n",
       "      <td>...</td>\n",
       "      <td>...</td>\n",
       "      <td>...</td>\n",
       "    </tr>\n",
       "    <tr>\n",
       "      <th>37280</th>\n",
       "      <td>2023-03-01</td>\n",
       "      <td>VODKA</td>\n",
       "      <td>100.0</td>\n",
       "      <td>STANDARD</td>\n",
       "      <td>Spain</td>\n",
       "      <td>N</td>\n",
       "      <td>NaN</td>\n",
       "      <td>autum</td>\n",
       "      <td>10.194516</td>\n",
       "      <td>Decrease</td>\n",
       "      <td>Average</td>\n",
       "      <td>No</td>\n",
       "      <td>15.082810</td>\n",
       "    </tr>\n",
       "    <tr>\n",
       "      <th>37281</th>\n",
       "      <td>2023-03-01</td>\n",
       "      <td>VODKA</td>\n",
       "      <td>70.0</td>\n",
       "      <td>STANDARD</td>\n",
       "      <td>Spain</td>\n",
       "      <td>N</td>\n",
       "      <td>NaN</td>\n",
       "      <td>autum</td>\n",
       "      <td>10.194516</td>\n",
       "      <td>Decrease</td>\n",
       "      <td>Average</td>\n",
       "      <td>No</td>\n",
       "      <td>8.675171</td>\n",
       "    </tr>\n",
       "    <tr>\n",
       "      <th>37282</th>\n",
       "      <td>2023-03-01</td>\n",
       "      <td>VODKA</td>\n",
       "      <td>70.0</td>\n",
       "      <td>STANDARD</td>\n",
       "      <td>Spain</td>\n",
       "      <td>N</td>\n",
       "      <td>NaN</td>\n",
       "      <td>autum</td>\n",
       "      <td>10.194516</td>\n",
       "      <td>Decrease</td>\n",
       "      <td>Average</td>\n",
       "      <td>No</td>\n",
       "      <td>8.675171</td>\n",
       "    </tr>\n",
       "    <tr>\n",
       "      <th>37283</th>\n",
       "      <td>2023-03-01</td>\n",
       "      <td>WHISKY - Blended</td>\n",
       "      <td>70.0</td>\n",
       "      <td>PREMIUM</td>\n",
       "      <td>Spain</td>\n",
       "      <td>N</td>\n",
       "      <td>NaN</td>\n",
       "      <td>autum</td>\n",
       "      <td>10.194516</td>\n",
       "      <td>Decrease</td>\n",
       "      <td>Average</td>\n",
       "      <td>No</td>\n",
       "      <td>6.739991</td>\n",
       "    </tr>\n",
       "    <tr>\n",
       "      <th>37284</th>\n",
       "      <td>2023-03-01</td>\n",
       "      <td>WHISKY - Blended</td>\n",
       "      <td>100.0</td>\n",
       "      <td>STANDARD</td>\n",
       "      <td>Spain</td>\n",
       "      <td>N</td>\n",
       "      <td>NaN</td>\n",
       "      <td>autum</td>\n",
       "      <td>10.194516</td>\n",
       "      <td>Decrease</td>\n",
       "      <td>Average</td>\n",
       "      <td>No</td>\n",
       "      <td>15.082810</td>\n",
       "    </tr>\n",
       "  </tbody>\n",
       "</table>\n",
       "<p>37285 rows × 13 columns</p>\n",
       "</div>"
      ],
      "text/plain": [
       "           Month          Category Format Classification Geography  \\\n",
       "0     2019-04-01         SPARKLING   75.0       STANDARD    France   \n",
       "1     2019-04-01         SPARKLING   75.0       STANDARD    France   \n",
       "2     2019-04-01           CACHACA   70.0        PREMIUM    France   \n",
       "3     2019-04-01            COGNAC   70.0        PREMIUM    France   \n",
       "4     2019-04-01               GIN   70.0       STANDARD    France   \n",
       "...          ...               ...    ...            ...       ...   \n",
       "37280 2023-03-01             VODKA  100.0       STANDARD     Spain   \n",
       "37281 2023-03-01             VODKA   70.0       STANDARD     Spain   \n",
       "37282 2023-03-01             VODKA   70.0       STANDARD     Spain   \n",
       "37283 2023-03-01  WHISKY - Blended   70.0        PREMIUM     Spain   \n",
       "37284 2023-03-01  WHISKY - Blended  100.0       STANDARD     Spain   \n",
       "\n",
       "      Agency Toggle    Vol 9LC  Season  Temperature Consumer Confidence  \\\n",
       "0                 Y  15.500000  spring    11.656333            Increase   \n",
       "1                 Y   1.500000  spring    11.656333            Increase   \n",
       "2                 N   0.466667  spring    11.656333            Increase   \n",
       "3                 N   0.933333  spring    11.656333            Increase   \n",
       "4                 N   3.733333  spring    11.656333            Increase   \n",
       "...             ...        ...     ...          ...                 ...   \n",
       "37280             N        NaN   autum    10.194516            Decrease   \n",
       "37281             N        NaN   autum    10.194516            Decrease   \n",
       "37282             N        NaN   autum    10.194516            Decrease   \n",
       "37283             N        NaN   autum    10.194516            Decrease   \n",
       "37284             N        NaN   autum    10.194516            Decrease   \n",
       "\n",
       "      Movement Upcoming Christmas   Forecast  \n",
       "0      Average                 No        NaN  \n",
       "1      Average                 No        NaN  \n",
       "2      Average                 No        NaN  \n",
       "3      Average                 No        NaN  \n",
       "4      Average                 No        NaN  \n",
       "...        ...                ...        ...  \n",
       "37280  Average                 No  15.082810  \n",
       "37281  Average                 No   8.675171  \n",
       "37282  Average                 No   8.675171  \n",
       "37283  Average                 No   6.739991  \n",
       "37284  Average                 No  15.082810  \n",
       "\n",
       "[37285 rows x 13 columns]"
      ]
     },
     "execution_count": 58,
     "metadata": {},
     "output_type": "execute_result"
    }
   ],
   "source": [
    "df_full_volume"
   ]
  },
  {
   "cell_type": "markdown",
   "id": "438045fb",
   "metadata": {},
   "source": [
    "### 3.4.3 Create csv file"
   ]
  },
  {
   "cell_type": "code",
   "execution_count": 59,
   "id": "65f76dcf",
   "metadata": {},
   "outputs": [],
   "source": [
    "df_full_volume.to_csv('MachineLearning_Forecast.csv')"
   ]
  }
 ],
 "metadata": {
  "kernelspec": {
   "display_name": "Python 3 (ipykernel)",
   "language": "python",
   "name": "python3"
  },
  "language_info": {
   "codemirror_mode": {
    "name": "ipython",
    "version": 3
   },
   "file_extension": ".py",
   "mimetype": "text/x-python",
   "name": "python",
   "nbconvert_exporter": "python",
   "pygments_lexer": "ipython3",
   "version": "3.8.13"
  }
 },
 "nbformat": 4,
 "nbformat_minor": 5
}
